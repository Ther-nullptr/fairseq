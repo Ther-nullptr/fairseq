{
 "cells": [
  {
   "cell_type": "code",
   "execution_count": 17,
   "metadata": {},
   "outputs": [],
   "source": [
    "import torch\n"
   ]
  },
  {
   "cell_type": "code",
   "execution_count": 18,
   "metadata": {},
   "outputs": [
    {
     "name": "stdout",
     "output_type": "stream",
     "text": [
      "torch.Size([5, 2])\n",
      "torch.Size([3, 3, 2])\n"
     ]
    }
   ],
   "source": [
    "code_book = torch.tensor([[0,1],[2,3],[4,5],[6,7],[8,9]])\n",
    "proj_data = torch.tensor([[[1,2],[3,4],[5,6]],[[7,8],[9,10],[11,12]],[[13,14],[15,16],[17,18]]])\n",
    "print(code_book.shape) # [vocab_size, code_book_dim]\n",
    "print(proj_data.shape) # [batch_size, seq_len, embedding_dim(same as embedding dim)]"
   ]
  },
  {
   "cell_type": "code",
   "execution_count": 24,
   "metadata": {},
   "outputs": [
    {
     "name": "stdout",
     "output_type": "stream",
     "text": [
      "tensor([[[  2,   2,  18,  50,  98],\n",
      "         [ 18,   2,   2,  18,  50],\n",
      "         [ 50,  18,   2,   2,  18]],\n",
      "\n",
      "        [[ 98,  50,  18,   2,   2],\n",
      "         [162,  98,  50,  18,   2],\n",
      "         [242, 162,  98,  50,  18]],\n",
      "\n",
      "        [[338, 242, 162,  98,  50],\n",
      "         [450, 338, 242, 162,  98],\n",
      "         [578, 450, 338, 242, 162]]]) torch.Size([3, 3, 5])\n",
      "tensor([[0, 1, 2],\n",
      "        [3, 4, 4],\n",
      "        [4, 4, 4]]) torch.Size([3, 3])\n"
     ]
    }
   ],
   "source": [
    "proj_data = torch.unsqueeze(proj_data,2)\n",
    "tmp = torch.sub(proj_data,code_book)\n",
    "norm2 = torch.squeeze(torch.sum(tmp ** 2, dim=-1)) # get the distance between each vector and each codebook\n",
    "print(norm2,norm2.shape)\n",
    "labels = torch.argmin(norm2, dim=-1) # get the index of the nearest codebook\n",
    "print(labels, labels.shape)"
   ]
  },
  {
   "cell_type": "code",
   "execution_count": null,
   "metadata": {},
   "outputs": [],
   "source": [
    "# tensor([[[  2,   2,  18,  50,  98],\n",
    "#          [ 18,   2,   2,  18,  50],\n",
    "#          [ 50,  18,   2,   2,  18]],\n",
    "\n",
    "#         [[ 98,  50,  18,   2,   2],\n",
    "#          [162,  98,  50,  18,   2],\n",
    "#          [242, 162,  98,  50,  18]],\n",
    "\n",
    "#         [[338, 242, 162,  98,  50],\n",
    "#          [450, 338, 242, 162,  98],\n",
    "#          [578, 450, 338, 242, 162]]]) torch.Size([3, 3, 5])\n",
    "# tensor([[0, 1, 2],\n",
    "#         [3, 4, 4],\n",
    "#         [4, 4, 4]]) torch.Size([3, 3])"
   ]
  }
 ],
 "metadata": {
  "interpreter": {
   "hash": "beb7ff9966cbdd4ea42a048596890942ce3677941e544582b862184b436bb673"
  },
  "kernelspec": {
   "display_name": "Python 3.8.12 ('fairseq')",
   "language": "python",
   "name": "python3"
  },
  "language_info": {
   "codemirror_mode": {
    "name": "ipython",
    "version": 3
   },
   "file_extension": ".py",
   "mimetype": "text/x-python",
   "name": "python",
   "nbconvert_exporter": "python",
   "pygments_lexer": "ipython3",
   "version": "3.8.10"
  },
  "orig_nbformat": 4
 },
 "nbformat": 4,
 "nbformat_minor": 2
}
